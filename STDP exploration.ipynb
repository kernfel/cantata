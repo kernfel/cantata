{
 "cells": [
  {
   "cell_type": "code",
   "execution_count": 1,
   "metadata": {},
   "outputs": [],
   "source": [
    "import cantata\n",
    "import torch\n",
    "import numpy as np\n",
    "import matplotlib.pyplot as plt\n",
    "import seaborn as sns\n",
    "from box import Box\n",
    "from cantata.plotting import output as cp\n",
    "from cantata import cfg"
   ]
  },
  {
   "cell_type": "code",
   "execution_count": 2,
   "metadata": {},
   "outputs": [],
   "source": [
    "figsize = (14,5)"
   ]
  },
  {
   "cell_type": "code",
   "execution_count": 3,
   "metadata": {},
   "outputs": [
    {
     "name": "stdout",
     "output_type": "stream",
     "text": [
      "1tier.yaml\n"
     ]
    }
   ],
   "source": [
    "print(cfg.model_config)"
   ]
  },
  {
   "cell_type": "code",
   "execution_count": 4,
   "metadata": {},
   "outputs": [],
   "source": [
    "# Extract populations & projections:\n",
    "populations = Box()\n",
    "drivers = Box()\n",
    "projections = Box()\n",
    "for name, pop in cfg.model.populations.items():\n",
    "    p = pop.copy()\n",
    "    projections[name] = p.targets\n",
    "    del p.targets\n",
    "    if p.rate >= 0:\n",
    "        drivers[name] = p\n",
    "    else:\n",
    "        populations[name] = p"
   ]
  },
  {
   "cell_type": "code",
   "execution_count": 5,
   "metadata": {},
   "outputs": [],
   "source": [
    "for name in drivers.keys():\n",
    "    assert np.all([name not in t for t in projections.values()]), name"
   ]
  },
  {
   "cell_type": "code",
   "execution_count": 6,
   "metadata": {},
   "outputs": [],
   "source": [
    "base_cfg = cfg.copy()\n",
    "del base_cfg.model_config\n",
    "base_cfg.model.populations = Box()"
   ]
  },
  {
   "cell_type": "code",
   "execution_count": 7,
   "metadata": {},
   "outputs": [],
   "source": [
    "second = int(1/base_cfg.time_step)"
   ]
  },
  {
   "cell_type": "code",
   "execution_count": 8,
   "metadata": {},
   "outputs": [],
   "source": [
    "# STDP check: Engineered pairs\n",
    "def stdp_plot(source_name, target_name,\n",
    "              n_probes = 51, probe_spacing = 0.002,\n",
    "              burst = 1, burst_spacing = 0.005,\n",
    "              v_post = 0.5, with_noise = False, batch_size = 32,\n",
    "              plot_traces = True,\n",
    "              kd = 1, kp = 1):\n",
    "    stdp_cfg = base_cfg.copy()\n",
    "    stdp_cfg.batch_size = batch_size\n",
    "    stdp_cfg.n_inputs = 3\n",
    "    stdp_cfg.n_steps = int(n_probes * probe_spacing / stdp_cfg.time_step) + 10\n",
    "    stdp_cfg.model.populations.Driver_pre = Box(dict(rate=0, targets={}))\n",
    "    stdp_cfg.model.populations.Driver_post = Box(dict(rate=1, targets={'Post':{}}))\n",
    "    stdp_cfg.model.populations.Driver_vpost = Box(dict(rate=2, targets={'Post':{}}))\n",
    "    for i in range(n_probes):\n",
    "        stdp_cfg.model.populations.Driver_pre.targets[f'Pre_{i}'] = {'delay': probe_spacing*i}\n",
    "    stdp_cfg.model.stdp_wmax_total = 2\n",
    "    stdp_cfg.model.tau_ref = 0\n",
    "\n",
    "    inputs = torch.zeros(stdp_cfg.batch_size, stdp_cfg.n_steps, stdp_cfg.n_inputs, **stdp_cfg.tspec)\n",
    "    surefire = 1/stdp_cfg.time_step\n",
    "    inputs[:,0,0] = surefire\n",
    "    burst_idx = torch.ones(burst)*(1 + int(n_probes//2 * probe_spacing/stdp_cfg.time_step)) + \\\n",
    "        torch.arange(0,-burst,-1) * burst_spacing/stdp_cfg.time_step\n",
    "    inputs[:,burst_idx.to(torch.long),1] = surefire\n",
    "    if not with_noise:\n",
    "        inputs[:,:,2] = surefire\n",
    "\n",
    "    t = np.arange(stdp_cfg.n_steps) * .001/stdp_cfg.time_step\n",
    "    dt = (np.arange(n_probes) - n_probes//2) * probe_spacing * 1000\n",
    "\n",
    "    for i in range(n_probes):\n",
    "        proj = projections[source_name][target_name].copy()\n",
    "        proj.delay = 0\n",
    "        proj.density = 1\n",
    "        proj.A_p *= kp\n",
    "        proj.A_d *= kd\n",
    "        source = (populations[source_name] if source_name in populations else drivers[source_name]).copy()\n",
    "        source.n = 1\n",
    "        source.targets = {f'Post': proj}\n",
    "        if not with_noise:\n",
    "            source.noise_N = 0\n",
    "        stdp_cfg.model.populations[f'Pre_{i}'] = source\n",
    "    target = populations[target_name].copy()\n",
    "    target.n = n_probes\n",
    "    if not with_noise:\n",
    "        target.noise_N = 0\n",
    "    stdp_cfg.model.populations.Post = target\n",
    "\n",
    "    cantata.config.load(stdp_cfg)\n",
    "    m = cantata.Module()\n",
    "    with torch.no_grad():\n",
    "        state,epoch,record = m.forward_init(inputs, ['w_stdp', 'mem'])\n",
    "        state.mem[:] = 0\n",
    "        epoch.W[0][epoch.W[0]>0] = 1\n",
    "        epoch.W[1][epoch.W[1]>0] = 1 + (-v_post if v_post < 0 else 0)\n",
    "        epoch.W[2][epoch.W[2]>0] = v_post - v_post*m.alpha_mem\n",
    "        state.mem[:,3+n_probes:] = v_post\n",
    "        state.u_dep[:,3+n_probes:] = v_post\n",
    "        state.u_pot[:,3+n_probes:] = v_post\n",
    "        state.th_dep[:,3+n_probes:] = v_post\n",
    "        epoch.W[3:3+n_probes, 3+n_probes:] = torch.eye(n_probes)*(1-v_post)/2*source.sign\n",
    "        m.forward_run(state,epoch,record)\n",
    "        m.forward_close(record)\n",
    "\n",
    "    if plot_traces:\n",
    "        plt.figure(figsize=figsize)\n",
    "        for i,k in enumerate(range(n_probes)):\n",
    "            plt.subplot(n_probes,2,2*i+1)\n",
    "            plt.plot(record.mem[0,:,3 + k].cpu().numpy(), label='pre')\n",
    "            plt.plot(record.mem[0,:,3 + n_probes + k].cpu().numpy(), label='post')\n",
    "            if i < n_probes-1:\n",
    "                plt.axis('off')\n",
    "            else:\n",
    "                sns.despine()\n",
    "                plt.xlabel('Time (ms)')\n",
    "\n",
    "            ax = plt.subplot(n_probes,2,2*i+2)\n",
    "            plt.plot(record.w_stdp[0,:, 3+k, 3+n_probes+k].cpu().numpy())\n",
    "            if i < n_probes-1:\n",
    "                plt.axis('off')\n",
    "            else:\n",
    "                ax.get_yaxis().set_visible(False)\n",
    "                sns.despine(left=True)\n",
    "                plt.xlabel('Time (ms)')\n",
    "\n",
    "    plt.figure(figsize=figsize)\n",
    "    plt.axhline(0, c='lightgray', ls='--')\n",
    "    first_half = np.ones(n_probes//2 + 1) * (2 + int(n_probes//2 * probe_spacing/stdp_cfg.time_step)) + 1\n",
    "    second_half = np.arange(1, n_probes//2+1) * probe_spacing/stdp_cfg.time_step + first_half[0]-1\n",
    "    idx_after = torch.tensor(np.concatenate((first_half, second_half)),dtype=torch.long)\n",
    "    dw = record.w_stdp[:, idx_after, range(3,3+n_probes), range(3+n_probes,3+2*n_probes)] - \\\n",
    "         record.w_stdp[:, idx_after-1, range(3,3+n_probes), range(3+n_probes,3+2*n_probes)]\n",
    "    dw_0 = np.flip(dw[0].cpu().numpy())\n",
    "    plt.plot(dt, dw_0, 'g*-')\n",
    "    plt.xlabel('t_post - t_pre (ms)')\n",
    "    plt.ylabel('Relative weight change')\n",
    "    \n",
    "    if with_noise:\n",
    "        dw_mean = np.flip(dw.mean(dim=0).cpu().numpy())\n",
    "        plt.plot(dt, dw_mean, 'ro-')\n",
    "        return dw_0, dw_mean\n",
    "    else:\n",
    "        return dw_0"
   ]
  },
  {
   "cell_type": "code",
   "execution_count": 9,
   "metadata": {},
   "outputs": [],
   "source": [
    "def stdp_check_all(**kwargs):\n",
    "    for source_name, targets in projections.items():\n",
    "        for target_name, projection in targets.items():\n",
    "            if projection.A_p > 0 or projection.A_d > 0:\n",
    "                stdp_plot(source_name, target_name, **kwargs)"
   ]
  },
  {
   "cell_type": "code",
   "execution_count": 10,
   "metadata": {},
   "outputs": [
    {
     "ename": "BoxKeyError",
     "evalue": "\"'Box' object has no attribute 'th_dep'\"",
     "output_type": "error",
     "traceback": [
      "\u001b[0;31m---------------------------------------------------------------------------\u001b[0m",
      "\u001b[0;31mBoxKeyError\u001b[0m                               Traceback (most recent call last)",
      "\u001b[0;32m<ipython-input-10-0bb302dd87c9>\u001b[0m in \u001b[0;36m<module>\u001b[0;34m\u001b[0m\n\u001b[0;32m----> 1\u001b[0;31m \u001b[0mstdp_check_all\u001b[0m\u001b[0;34m(\u001b[0m\u001b[0mv_post\u001b[0m\u001b[0;34m=\u001b[0m\u001b[0;36m0.0\u001b[0m\u001b[0;34m)\u001b[0m\u001b[0;34m\u001b[0m\u001b[0;34m\u001b[0m\u001b[0m\n\u001b[0m",
      "\u001b[0;32m<ipython-input-9-7c3a3697871f>\u001b[0m in \u001b[0;36mstdp_check_all\u001b[0;34m(**kwargs)\u001b[0m\n\u001b[1;32m      3\u001b[0m         \u001b[0;32mfor\u001b[0m \u001b[0mtarget_name\u001b[0m\u001b[0;34m,\u001b[0m \u001b[0mprojection\u001b[0m \u001b[0;32min\u001b[0m \u001b[0mtargets\u001b[0m\u001b[0;34m.\u001b[0m\u001b[0mitems\u001b[0m\u001b[0;34m(\u001b[0m\u001b[0;34m)\u001b[0m\u001b[0;34m:\u001b[0m\u001b[0;34m\u001b[0m\u001b[0;34m\u001b[0m\u001b[0m\n\u001b[1;32m      4\u001b[0m             \u001b[0;32mif\u001b[0m \u001b[0mprojection\u001b[0m\u001b[0;34m.\u001b[0m\u001b[0mA_p\u001b[0m \u001b[0;34m>\u001b[0m \u001b[0;36m0\u001b[0m \u001b[0;32mor\u001b[0m \u001b[0mprojection\u001b[0m\u001b[0;34m.\u001b[0m\u001b[0mA_d\u001b[0m \u001b[0;34m>\u001b[0m \u001b[0;36m0\u001b[0m\u001b[0;34m:\u001b[0m\u001b[0;34m\u001b[0m\u001b[0;34m\u001b[0m\u001b[0m\n\u001b[0;32m----> 5\u001b[0;31m                 \u001b[0mstdp_plot\u001b[0m\u001b[0;34m(\u001b[0m\u001b[0msource_name\u001b[0m\u001b[0;34m,\u001b[0m \u001b[0mtarget_name\u001b[0m\u001b[0;34m,\u001b[0m \u001b[0;34m**\u001b[0m\u001b[0mkwargs\u001b[0m\u001b[0;34m)\u001b[0m\u001b[0;34m\u001b[0m\u001b[0;34m\u001b[0m\u001b[0m\n\u001b[0m",
      "\u001b[0;32m<ipython-input-8-1af922f98b91>\u001b[0m in \u001b[0;36mstdp_plot\u001b[0;34m(source_name, target_name, n_probes, probe_spacing, burst, burst_spacing, v_post, with_noise, batch_size, plot_traces, kd, kp)\u001b[0m\n\u001b[1;32m     59\u001b[0m         \u001b[0mstate\u001b[0m\u001b[0;34m.\u001b[0m\u001b[0mu_dep\u001b[0m\u001b[0;34m[\u001b[0m\u001b[0;34m:\u001b[0m\u001b[0;34m,\u001b[0m\u001b[0;36m3\u001b[0m\u001b[0;34m+\u001b[0m\u001b[0mn_probes\u001b[0m\u001b[0;34m:\u001b[0m\u001b[0;34m]\u001b[0m \u001b[0;34m=\u001b[0m \u001b[0mv_post\u001b[0m\u001b[0;34m\u001b[0m\u001b[0;34m\u001b[0m\u001b[0m\n\u001b[1;32m     60\u001b[0m         \u001b[0mstate\u001b[0m\u001b[0;34m.\u001b[0m\u001b[0mu_pot\u001b[0m\u001b[0;34m[\u001b[0m\u001b[0;34m:\u001b[0m\u001b[0;34m,\u001b[0m\u001b[0;36m3\u001b[0m\u001b[0;34m+\u001b[0m\u001b[0mn_probes\u001b[0m\u001b[0;34m:\u001b[0m\u001b[0;34m]\u001b[0m \u001b[0;34m=\u001b[0m \u001b[0mv_post\u001b[0m\u001b[0;34m\u001b[0m\u001b[0;34m\u001b[0m\u001b[0m\n\u001b[0;32m---> 61\u001b[0;31m         \u001b[0mstate\u001b[0m\u001b[0;34m.\u001b[0m\u001b[0mth_dep\u001b[0m\u001b[0;34m[\u001b[0m\u001b[0;34m:\u001b[0m\u001b[0;34m,\u001b[0m\u001b[0;36m3\u001b[0m\u001b[0;34m+\u001b[0m\u001b[0mn_probes\u001b[0m\u001b[0;34m:\u001b[0m\u001b[0;34m]\u001b[0m \u001b[0;34m=\u001b[0m \u001b[0mv_post\u001b[0m\u001b[0;34m\u001b[0m\u001b[0;34m\u001b[0m\u001b[0m\n\u001b[0m\u001b[1;32m     62\u001b[0m         \u001b[0mepoch\u001b[0m\u001b[0;34m.\u001b[0m\u001b[0mW\u001b[0m\u001b[0;34m[\u001b[0m\u001b[0;36m3\u001b[0m\u001b[0;34m:\u001b[0m\u001b[0;36m3\u001b[0m\u001b[0;34m+\u001b[0m\u001b[0mn_probes\u001b[0m\u001b[0;34m,\u001b[0m \u001b[0;36m3\u001b[0m\u001b[0;34m+\u001b[0m\u001b[0mn_probes\u001b[0m\u001b[0;34m:\u001b[0m\u001b[0;34m]\u001b[0m \u001b[0;34m=\u001b[0m \u001b[0mtorch\u001b[0m\u001b[0;34m.\u001b[0m\u001b[0meye\u001b[0m\u001b[0;34m(\u001b[0m\u001b[0mn_probes\u001b[0m\u001b[0;34m)\u001b[0m\u001b[0;34m*\u001b[0m\u001b[0;34m(\u001b[0m\u001b[0;36m1\u001b[0m\u001b[0;34m-\u001b[0m\u001b[0mv_post\u001b[0m\u001b[0;34m)\u001b[0m\u001b[0;34m/\u001b[0m\u001b[0;36m2\u001b[0m\u001b[0;34m*\u001b[0m\u001b[0msource\u001b[0m\u001b[0;34m.\u001b[0m\u001b[0msign\u001b[0m\u001b[0;34m\u001b[0m\u001b[0;34m\u001b[0m\u001b[0m\n\u001b[1;32m     63\u001b[0m         \u001b[0mm\u001b[0m\u001b[0;34m.\u001b[0m\u001b[0mforward_run\u001b[0m\u001b[0;34m(\u001b[0m\u001b[0mstate\u001b[0m\u001b[0;34m,\u001b[0m\u001b[0mepoch\u001b[0m\u001b[0;34m,\u001b[0m\u001b[0mrecord\u001b[0m\u001b[0;34m)\u001b[0m\u001b[0;34m\u001b[0m\u001b[0;34m\u001b[0m\u001b[0m\n",
      "\u001b[0;32m~/projects/cantata/venv/lib/python3.8/site-packages/box/box.py\u001b[0m in \u001b[0;36m__getattr__\u001b[0;34m(self, item)\u001b[0m\n\u001b[1;32m    488\u001b[0m             \u001b[0;32mif\u001b[0m \u001b[0mself\u001b[0m\u001b[0;34m.\u001b[0m\u001b[0m_box_config\u001b[0m\u001b[0;34m[\u001b[0m\u001b[0;34m\"default_box\"\u001b[0m\u001b[0;34m]\u001b[0m\u001b[0;34m:\u001b[0m\u001b[0;34m\u001b[0m\u001b[0;34m\u001b[0m\u001b[0m\n\u001b[1;32m    489\u001b[0m                 \u001b[0;32mreturn\u001b[0m \u001b[0mself\u001b[0m\u001b[0;34m.\u001b[0m\u001b[0m__get_default\u001b[0m\u001b[0;34m(\u001b[0m\u001b[0mitem\u001b[0m\u001b[0;34m,\u001b[0m \u001b[0mattr\u001b[0m\u001b[0;34m=\u001b[0m\u001b[0;32mTrue\u001b[0m\u001b[0;34m)\u001b[0m\u001b[0;34m\u001b[0m\u001b[0;34m\u001b[0m\u001b[0m\n\u001b[0;32m--> 490\u001b[0;31m             \u001b[0;32mraise\u001b[0m \u001b[0mBoxKeyError\u001b[0m\u001b[0;34m(\u001b[0m\u001b[0mstr\u001b[0m\u001b[0;34m(\u001b[0m\u001b[0merr\u001b[0m\u001b[0;34m)\u001b[0m\u001b[0;34m)\u001b[0m \u001b[0;32mfrom\u001b[0m \u001b[0;32mNone\u001b[0m\u001b[0;34m\u001b[0m\u001b[0;34m\u001b[0m\u001b[0m\n\u001b[0m\u001b[1;32m    491\u001b[0m         \u001b[0;32mreturn\u001b[0m \u001b[0mvalue\u001b[0m\u001b[0;34m\u001b[0m\u001b[0;34m\u001b[0m\u001b[0m\n\u001b[1;32m    492\u001b[0m \u001b[0;34m\u001b[0m\u001b[0m\n",
      "\u001b[0;31mBoxKeyError\u001b[0m: \"'Box' object has no attribute 'th_dep'\""
     ]
    }
   ],
   "source": [
    "stdp_check_all(v_post=0.0)"
   ]
  },
  {
   "cell_type": "code",
   "execution_count": null,
   "metadata": {},
   "outputs": [],
   "source": [
    "stdp_check_all(v_post = 0.5)"
   ]
  },
  {
   "cell_type": "code",
   "execution_count": null,
   "metadata": {
    "scrolled": false
   },
   "outputs": [],
   "source": [
    "stdp_check_all(v_post = 0.9)"
   ]
  },
  {
   "cell_type": "code",
   "execution_count": null,
   "metadata": {
    "scrolled": false
   },
   "outputs": [],
   "source": [
    "stdp_check_all(v_post = 0.8, with_noise = True)"
   ]
  },
  {
   "cell_type": "code",
   "execution_count": null,
   "metadata": {},
   "outputs": [],
   "source": []
  }
 ],
 "metadata": {
  "kernelspec": {
   "display_name": "cantata",
   "language": "python",
   "name": "cantata"
  },
  "language_info": {
   "codemirror_mode": {
    "name": "ipython",
    "version": 3
   },
   "file_extension": ".py",
   "mimetype": "text/x-python",
   "name": "python",
   "nbconvert_exporter": "python",
   "pygments_lexer": "ipython3",
   "version": "3.8.6"
  }
 },
 "nbformat": 4,
 "nbformat_minor": 4
}

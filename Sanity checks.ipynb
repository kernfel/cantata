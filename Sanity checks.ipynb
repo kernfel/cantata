{
 "cells": [
  {
   "cell_type": "code",
   "execution_count": 1,
   "metadata": {},
   "outputs": [],
   "source": [
    "import cantata\n",
    "import torch\n",
    "import numpy as np\n",
    "import matplotlib.pyplot as plt\n",
    "import seaborn as sns\n",
    "from box import Box\n",
    "from cantata.plotting import output as cp\n",
    "from cantata import cfg"
   ]
  },
  {
   "cell_type": "code",
   "execution_count": 2,
   "metadata": {},
   "outputs": [],
   "source": [
    "%load_ext autoreload\n",
    "%autoreload 1\n",
    "%aimport cantata, cantata.plotting.output"
   ]
  },
  {
   "cell_type": "code",
   "execution_count": 3,
   "metadata": {},
   "outputs": [],
   "source": [
    "figsize = (14,5)"
   ]
  },
  {
   "cell_type": "code",
   "execution_count": 4,
   "metadata": {},
   "outputs": [
    {
     "name": "stdout",
     "output_type": "stream",
     "text": [
      "1tier.yaml\n"
     ]
    }
   ],
   "source": [
    "print(cfg.model_config)"
   ]
  },
  {
   "cell_type": "code",
   "execution_count": 5,
   "metadata": {},
   "outputs": [],
   "source": [
    "# Extract populations & projections:\n",
    "populations = Box()\n",
    "drivers = Box()\n",
    "targets = Box()\n",
    "for name, pop in cfg.model.populations.items():\n",
    "    p = pop.copy()\n",
    "    targets[name] = p.targets\n",
    "    del p.targets\n",
    "    if p.rate >= 0:\n",
    "        drivers[name] = p\n",
    "    else:\n",
    "        populations[name] = p"
   ]
  },
  {
   "cell_type": "code",
   "execution_count": 6,
   "metadata": {},
   "outputs": [],
   "source": [
    "for name in drivers.keys():\n",
    "    assert np.all([name not in t for t in targets.values()]), name"
   ]
  },
  {
   "cell_type": "code",
   "execution_count": 7,
   "metadata": {},
   "outputs": [],
   "source": [
    "base_cfg = cfg.copy()\n",
    "del base_cfg.model_config\n",
    "base_cfg.model.populations = Box()"
   ]
  },
  {
   "cell_type": "code",
   "execution_count": 8,
   "metadata": {},
   "outputs": [],
   "source": [
    "second = int(1/base_cfg.time_step)"
   ]
  },
  {
   "cell_type": "code",
   "execution_count": 9,
   "metadata": {},
   "outputs": [
    {
     "data": {
      "image/png": "[encoded data removed]",
      "text/plain": [
       "<Figure size 1008x360 with 4 Axes>"
      ]
     },
     "metadata": {
      "needs_background": "light"
     },
     "output_type": "display_data"
    }
   ],
   "source": [
    "# STP sanity check\n",
    "establish_end = 100\n",
    "\n",
    "# To probe establishment - final value is used for recovery:\n",
    "est_steps = [20,10,6] # Establishment ISIs, ms\n",
    "est_ms = [torch.arange(establish_end/s) * s for s in est_steps]\n",
    "\n",
    "# To probe recovery:\n",
    "rec_steps = 20 # Number of recovery probes\n",
    "recover_step = 50 # Spacing between recovery probes, ms\n",
    "establish_step = est_steps[-1]\n",
    "establish_ms = torch.arange(0,establish_end,establish_step)\n",
    "recover_ms = torch.arange(rec_steps)*recover_step + establish_ms[-1] + est_steps[-1]\n",
    "\n",
    "ms_to_idx = lambda ms: (ms/(1000*base_cfg.time_step)).to(torch.long)\n",
    "establish_idx = ms_to_idx(establish_ms)\n",
    "recover_idx = ms_to_idx(recover_ms)\n",
    "est_idx = [ms_to_idx(est) for est in est_ms]\n",
    "\n",
    "stp_cfg = base_cfg.copy()\n",
    "stp_cfg.batch_size = rec_steps + len(est_steps)\n",
    "stp_cfg.n_inputs = 1\n",
    "stp_cfg.n_steps = recover_idx[-1] + 3\n",
    "stp_cfg.model.populations.Driver = Box(dict(rate=0, targets=dict(Probe={})))\n",
    "stp_cfg.model.populations.Output = Box({})\n",
    "\n",
    "inputs = torch.zeros(stp_cfg.batch_size, stp_cfg.n_steps, stp_cfg.n_inputs, **stp_cfg.tspec)\n",
    "surefire = 1/stp_cfg.time_step\n",
    "inputs[:rec_steps, establish_idx, :] = surefire\n",
    "inputs[torch.arange(rec_steps), recover_idx, :] = surefire\n",
    "\n",
    "for i,idx in enumerate(est_idx):\n",
    "    inputs[rec_steps + i, idx, :] = surefire\n",
    "\n",
    "plt.figure(figsize=figsize)\n",
    "for i, (name, pop) in enumerate(populations.items()):\n",
    "    stp_cfg.model.populations.Probe = pop.copy()\n",
    "    stp_cfg.model.populations.Probe.n = 1\n",
    "    stp_cfg.model.populations.Probe.noise_N = 0\n",
    "    stp_cfg.model.populations.Probe.targets = Box(dict(Output={}))\n",
    "    cantata.config.load(stp_cfg)\n",
    "    m = cantata.Module()\n",
    "    with torch.no_grad():\n",
    "        state,epoch,record = m.forward_init(inputs, ['syn'])\n",
    "        epoch.W[0,2] = 1 # Driver to Probe\n",
    "        epoch.W[2,1] = 1 # Probe to Output\n",
    "        m.forward_run(state,epoch,record)\n",
    "        m.forward_close(record)\n",
    "    \n",
    "    plt.subplot(2,len(populations),2*i+1)\n",
    "    for j,idx in enumerate(est_idx):\n",
    "        plt.plot(est_ms[j], record.syn[rec_steps+j, idx+2, 1].cpu().numpy(), '*',\n",
    "                 label=f'{1/(cfg.time_step * est_steps[j]):.0f} Hz')\n",
    "    plt.legend()\n",
    "    if i==len(populations)-1:\n",
    "        plt.xlabel('STP establishment (ms)')\n",
    "    plt.ylabel(f'$I_{{syn}}$ evoked by {name}')\n",
    "    \n",
    "    plt.subplot(2,len(populations),2*i+2)\n",
    "    plt.plot(recover_ms, record.syn[torch.arange(rec_steps),recover_idx+2,1].cpu().numpy(), '*')\n",
    "    if i==len(populations)-1:\n",
    "        plt.xlabel('STP recovery (ms)')"
   ]
  },
  {
   "cell_type": "code",
   "execution_count": null,
   "metadata": {},
   "outputs": [],
   "source": []
  }
 ],
 "metadata": {
  "kernelspec": {
   "display_name": "cantata",
   "language": "python",
   "name": "cantata"
  },
  "language_info": {
   "codemirror_mode": {
    "name": "ipython",
    "version": 3
   },
   "file_extension": ".py",
   "mimetype": "text/x-python",
   "name": "python",
   "nbconvert_exporter": "python",
   "pygments_lexer": "ipython3",
   "version": "3.8.6"
  }
 },
 "nbformat": 4,
 "nbformat_minor": 4
}
